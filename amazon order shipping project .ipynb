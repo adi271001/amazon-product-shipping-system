{
 "cells": [
  {
   "cell_type": "code",
   "execution_count": 1,
   "metadata": {},
   "outputs": [],
   "source": [
    "import string\n",
    "import random\n",
    "\n",
    "def generate_id():\n",
    "    id1 = ''\n",
    "    id2 = ''\n",
    "    p1 = list(string.ascii_letters)\n",
    "    p2 = list(string.digits)\n",
    "\n",
    "    for i in range(2):\n",
    "        id1 += random.choice(p1)\n",
    "    for j in range(4):\n",
    "        id2 += random.choice(p2)\n",
    "    uid = id1+id2\n",
    "    return uid"
   ]
  },
  {
   "cell_type": "code",
   "execution_count": 7,
   "metadata": {},
   "outputs": [],
   "source": [
    "class Amazon:\n",
    "    def __init__(self):\n",
    "        self.uid = None\n",
    "        self.Name = None\n",
    "        self.email = None\n",
    "        self.Order_cart = None\n",
    "        self.isPrime = 1\n",
    "        \n",
    "    def get_details(self):\n",
    "        self.uid = generate_id()\n",
    "        self.Name = input(\"Enter your name: \")\n",
    "        self.email = input(\"Enter e-mail address: \")\n",
    "        \n",
    "    def buy_items(self):\n",
    "        self.Order_cart = [i for i in input(\"Enter the items you'd like to order: \").split(', ')]\n",
    "        \n",
    "    def get_prime(self):\n",
    "        self.isPrime = 0"
   ]
  },
  {
   "cell_type": "code",
   "execution_count": 8,
   "metadata": {},
   "outputs": [],
   "source": [
    "user_list = []"
   ]
  },
  {
   "cell_type": "code",
   "execution_count": 9,
   "metadata": {},
   "outputs": [],
   "source": [
    "def find_user_pos(new_user):     \n",
    "    user_count = len(user_list)\n",
    "    pos = 0\n",
    "    for i in range(user_count):                 #looping operation has Time Complexity: O(n)\n",
    "        if user_list[i].isPrime <= new_user.isPrime:\n",
    "            pos += 1\n",
    "    return pos"
   ]
  },
  {
   "cell_type": "code",
   "execution_count": 10,
   "metadata": {},
   "outputs": [
    {
     "name": "stdout",
     "output_type": "stream",
     "text": [
      "Enter your name: ANURAG\n",
      "Enter e-mail address: anurag48@gmail.com\n",
      "Would you like to place orders?: yes\n",
      "Enter the items you'd like to order: samsumg m31,boat headphones \n",
      "Do you want to buy Prime and enjoy Prime benefits?: yes\n",
      "Add more users?: yes\n",
      "\n",
      "\n",
      "Enter your name: akshay p\n",
      "Enter e-mail address: akshayp458@gmail.com\n",
      "Would you like to place orders?: yes\n",
      "Enter the items you'd like to order: bose headphones,hp modern features laptop\n",
      "Do you want to buy Prime and enjoy Prime benefits?: no\n",
      "Add more users?: no\n",
      "\n",
      "\n"
     ]
    }
   ],
   "source": [
    "res = 'yes'\n",
    "while res == 'yes':\n",
    "    new_user = Amazon()\n",
    "    new_user.get_details()\n",
    "    \n",
    "    resp = input(\"Would you like to place orders?: \")\n",
    "    resp = resp.lower()\n",
    "    \n",
    "    if resp == 'yes':\n",
    "        new_user.buy_items()\n",
    "        \n",
    "    resp = input(\"Do you want to buy Prime and enjoy Prime benefits?: \")\n",
    "    resp = resp.lower()\n",
    "\n",
    "    if resp == 'yes':\n",
    "        new_user.get_prime()\n",
    "    \n",
    "    pos = find_user_pos(new_user)\n",
    "    user_list.insert(pos, new_user)\n",
    "    #user_list.append(new_user)\n",
    "        \n",
    "    res = input(\"Add more users?: \")\n",
    "    print(\"\\n\")\n",
    "    res = res.lower()"
   ]
  },
  {
   "cell_type": "code",
   "execution_count": 11,
   "metadata": {},
   "outputs": [
    {
     "name": "stdout",
     "output_type": "stream",
     "text": [
      "[<__main__.Amazon object at 0x000002420114C400>, <__main__.Amazon object at 0x000002420114C5C0>]\n"
     ]
    }
   ],
   "source": [
    "print(user_list)"
   ]
  },
  {
   "cell_type": "code",
   "execution_count": 12,
   "metadata": {},
   "outputs": [
    {
     "name": "stdout",
     "output_type": "stream",
     "text": [
      "Delivery Order: \n",
      "ANURAG 0 ['samsumg m31,boat headphones ']\n",
      "akshay p 1 ['bose headphones,hp modern features laptop']\n"
     ]
    }
   ],
   "source": [
    "print(\"Delivery Order: \")\n",
    "for i in user_list:\n",
    "    print(i.Name, i.isPrime, i.Order_cart)"
   ]
  },
  {
   "cell_type": "code",
   "execution_count": 13,
   "metadata": {},
   "outputs": [
    {
     "name": "stdout",
     "output_type": "stream",
     "text": [
      "Sorted Delivery orders: \n",
      "ANURAG 0\n",
      "akshay p 1\n"
     ]
    }
   ],
   "source": [
    "user_list = sorted(user_list, key= lambda x: x.isPrime) #Sorting algorithms like Quick sort with Time complexity: O(nlogn)\n",
    "print(\"Sorted Delivery orders: \")\n",
    "for i in user_list:\n",
    "    print(i.Name, i.isPrime)"
   ]
  },
  {
   "cell_type": "code",
   "execution_count": 14,
   "metadata": {},
   "outputs": [
    {
     "name": "stdout",
     "output_type": "stream",
     "text": [
      "Hello ANURAG (Customer ID: Yk9802),\n",
      "Your order(s) ['samsumg m31,boat headphones '] were confirmed on 16/04/2021 [Friday], at 19:30 and has been shipped under Prime delivery.\n",
      "\n",
      "\n",
      "Hello akshay p (Customer ID: OI5940),\n",
      "Your order(s) ['bose headphones,hp modern features laptop'] were confirmed on 16/04/2021 [Friday], at 19:30 and has been shipped.\n",
      "Switch to Prime and get your products delivered quicker!\n",
      "\n",
      "\n"
     ]
    }
   ],
   "source": [
    "\n",
    "import datetime\n",
    "A = datetime.datetime.now()\n",
    "date = A.strftime(\"%d/%m/%Y\")\n",
    "time = A.strftime(\"%H:%M\")\n",
    "day = A.strftime(\"%A\")\n",
    "\n",
    "for i in user_list:\n",
    "    if i.isPrime == 0:\n",
    "        print(f\"Hello {i.Name} (Customer ID: {i.uid}),\")\n",
    "        print(f\"Your order(s) {i.Order_cart} were confirmed on {date} [{day}], at {time} and has been shipped under Prime delivery.\")\n",
    "        print(\"\\n\")\n",
    "    else:\n",
    "        print(f\"Hello {i.Name} (Customer ID: {i.uid}),\")\n",
    "        print(f\"Your order(s) {i.Order_cart} were confirmed on {date} [{day}], at {time} and has been shipped.\")\n",
    "        print(\"Switch to Prime and get your products delivered quicker!\")\n",
    "        print(\"\\n\")"
   ]
  },
  {
   "cell_type": "code",
   "execution_count": null,
   "metadata": {},
   "outputs": [],
   "source": []
  }
 ],
 "metadata": {
  "kernelspec": {
   "display_name": "Python 3",
   "language": "python",
   "name": "python3"
  },
  "language_info": {
   "codemirror_mode": {
    "name": "ipython",
    "version": 3
   },
   "file_extension": ".py",
   "mimetype": "text/x-python",
   "name": "python",
   "nbconvert_exporter": "python",
   "pygments_lexer": "ipython3",
   "version": "3.7.3"
  }
 },
 "nbformat": 4,
 "nbformat_minor": 2
}
